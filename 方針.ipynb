{
 "cells": [
  {
   "cell_type": "markdown",
   "metadata": {},
   "source": [
    "## RailsをDocker化する"
   ]
  },
  {
   "cell_type": "markdown",
   "metadata": {},
   "source": [
    "- 要求\n",
    "    - サーバー構築手順の学習\n",
    "-　要件\n",
    "    -　Dockerを使用する\n",
    "    - Configuration,Provisioning:サーバーの構成管理(containerだから毎回一から作成する)\n",
    "    - Deploy:編集したコードをgithub経由でdeployする\n",
    "    - postgresql, nginx, client(react)との連携, rails5使用, wreckerをci "
   ]
  },
  {
   "cell_type": "code",
   "execution_count": 8,
   "metadata": {
    "collapsed": false
   },
   "outputs": [
    {
     "data": {
      "text/plain": [
       "true"
      ]
     },
     "execution_count": 8,
     "metadata": {},
     "output_type": "execute_result"
    }
   ],
   "source": [
    "require './config/boot'\n",
    "APP_PATH  = File.expand_path('config/application') unless defined?(APP_PATH)\n",
    "require APP_PATH\n",
    "require './app/models/application_record'\n",
    "require \"./app/models/user\"\n",
    "Rails.application.require_environment!"
   ]
  },
  {
   "cell_type": "code",
   "execution_count": 9,
   "metadata": {
    "collapsed": false
   },
   "outputs": [
    {
     "data": {
      "text/plain": [
       "#<User id: nil, name: nil, created_at: nil, updated_at: nil>"
      ]
     },
     "execution_count": 9,
     "metadata": {},
     "output_type": "execute_result"
    }
   ],
   "source": [
    "User.new"
   ]
  },
  {
   "cell_type": "code",
   "execution_count": null,
   "metadata": {
    "collapsed": true
   },
   "outputs": [],
   "source": []
  }
 ],
 "metadata": {
  "kernelspec": {
   "display_name": "Ruby 2.3.3",
   "language": "ruby",
   "name": "ruby"
  },
  "language_info": {
   "file_extension": ".rb",
   "mimetype": "application/x-ruby",
   "name": "ruby",
   "version": "2.3.3"
  }
 },
 "nbformat": 4,
 "nbformat_minor": 2
}
